{
 "cells": [
  {
   "cell_type": "code",
   "execution_count": 1,
   "id": "c33c0609",
   "metadata": {},
   "outputs": [],
   "source": [
    "import numpy as np\n",
    "import pandas as pd\n",
    "import matplotlib.pyplot as plt\n",
    "import pickle"
   ]
  },
  {
   "cell_type": "code",
   "execution_count": 2,
   "id": "b16f594b",
   "metadata": {},
   "outputs": [],
   "source": [
    "df_cleaned = pd.read_csv(\"./new_movie_data/cleaned_data.csv\")"
   ]
  },
  {
   "cell_type": "code",
   "execution_count": 3,
   "id": "4450e70c",
   "metadata": {},
   "outputs": [
    {
     "data": {
      "text/plain": [
       "Index(['id', 'adult', 'belongs_to_collection', 'genres', 'original_language',\n",
       "       'original_title', 'overview', 'popularity', 'production_companies',\n",
       "       'release_date', 'runtime', 'spoken_languages', 'title', 'vote_average',\n",
       "       'vote_count', 'keywords'],\n",
       "      dtype='object')"
      ]
     },
     "execution_count": 3,
     "metadata": {},
     "output_type": "execute_result"
    }
   ],
   "source": [
    "df_cleaned.columns"
   ]
  },
  {
   "cell_type": "markdown",
   "id": "03ca4f0d",
   "metadata": {},
   "source": [
    "#### just some helper functions"
   ]
  },
  {
   "cell_type": "code",
   "execution_count": 4,
   "id": "45936da0",
   "metadata": {},
   "outputs": [],
   "source": [
    "def convert_dict(column_name,key,value):\n",
    "    # store just the ids and None/NaN otherwise\n",
    "    d = dict()\n",
    "    for i in df_cleaned[column_name]:\n",
    "        j = eval(i)\n",
    "        if j.get('id') != None:\n",
    "            d.update({j.get(key) : j.get(value)})\n",
    "    df_cleaned[column_name] = [eval(i).get(key) for i in df_cleaned[column_name]]\n",
    "    return d"
   ]
  },
  {
   "cell_type": "code",
   "execution_count": 5,
   "id": "c2304e91",
   "metadata": {},
   "outputs": [],
   "source": [
    "def convert_list_of_dict(column_name,key,value):\n",
    "    # store just the list of ids in the df and dictionary stores all the mappings\n",
    "    d_ = dict()\n",
    "    l = []\n",
    "    for i in df_cleaned[column_name]:\n",
    "        l2 = []\n",
    "        for j in eval(i):\n",
    "            l2.append(j.get(key))\n",
    "            d_.update({j.get(key): j.get(value)})\n",
    "        l.append(l2)\n",
    "    df_cleaned[column_name] = l\n",
    "    return d_"
   ]
  },
  {
   "cell_type": "markdown",
   "id": "89881ccb",
   "metadata": {},
   "source": [
    "### adult,popularity, release_date, runtime, title, vote_average, vote_count don't have to change anything"
   ]
  },
  {
   "cell_type": "markdown",
   "id": "43f0ad02",
   "metadata": {},
   "source": [
    "### Convert belongs_to_collection to just the ids and store the dictionary with name somewhere else\n",
    "again gets the NaN values (setting to zero might be wrong!!)"
   ]
  },
  {
   "cell_type": "code",
   "execution_count": 6,
   "id": "8cda772b",
   "metadata": {},
   "outputs": [],
   "source": [
    "dict_ids_to_collection = convert_dict('belongs_to_collection','id','name')"
   ]
  },
  {
   "cell_type": "code",
   "execution_count": 7,
   "id": "5b2ade3f",
   "metadata": {},
   "outputs": [],
   "source": [
    "with open(\"./new_movie_data/dict/ids_to_collection.pkl\",\"wb\") as f:\n",
    "    pickle.dump(dict_ids_to_collection,f)"
   ]
  },
  {
   "cell_type": "code",
   "execution_count": 8,
   "id": "a61ab9a8",
   "metadata": {},
   "outputs": [
    {
     "data": {
      "text/plain": [
       "'Toy Story Collection'"
      ]
     },
     "execution_count": 8,
     "metadata": {},
     "output_type": "execute_result"
    }
   ],
   "source": [
    "with open(\"./new_movie_data/dict/ids_to_collection.pkl\",\"rb\") as f:\n",
    "    d = pickle.load(f)\n",
    "d[df_cleaned.belongs_to_collection.iloc[0]]"
   ]
  },
  {
   "cell_type": "markdown",
   "id": "41085125",
   "metadata": {},
   "source": [
    "### Convert genres to just a list of ids and store the dictionary with name somewhere else\n"
   ]
  },
  {
   "cell_type": "code",
   "execution_count": 9,
   "id": "abaf78a4",
   "metadata": {},
   "outputs": [],
   "source": [
    "dict_ids_to_genres = convert_list_of_dict('genres','id','name')"
   ]
  },
  {
   "cell_type": "code",
   "execution_count": 10,
   "id": "0c591103",
   "metadata": {},
   "outputs": [],
   "source": [
    "with open(\"./new_movie_data/dict/ids_to_genres.pkl\",\"wb\") as f:\n",
    "    pickle.dump(dict_ids_to_genres,f)"
   ]
  },
  {
   "cell_type": "code",
   "execution_count": 11,
   "id": "cb1805ab",
   "metadata": {},
   "outputs": [
    {
     "data": {
      "text/plain": [
       "['Animation', 'Comedy', 'Family']"
      ]
     },
     "execution_count": 11,
     "metadata": {},
     "output_type": "execute_result"
    }
   ],
   "source": [
    "with open(\"./new_movie_data/dict/ids_to_genres.pkl\",\"rb\") as f:\n",
    "    d = pickle.load(f)\n",
    "[d.get(i) for i in df_cleaned.genres.iloc[0]]"
   ]
  },
  {
   "cell_type": "markdown",
   "id": "d686cb53",
   "metadata": {},
   "source": [
    "### removing the column original title and original language not that useful - since title and spoken languages already exist"
   ]
  },
  {
   "cell_type": "code",
   "execution_count": 12,
   "id": "8bd674e3",
   "metadata": {},
   "outputs": [],
   "source": [
    "remove_col = ['original_language','original_title']"
   ]
  },
  {
   "cell_type": "markdown",
   "id": "655b6ed6",
   "metadata": {},
   "source": [
    "### HAVE TO DECIDE WHAT TO DO WITH THE OVERVIEW"
   ]
  },
  {
   "cell_type": "markdown",
   "id": "78363e77",
   "metadata": {},
   "source": [
    "### production companies - empty list if no information"
   ]
  },
  {
   "cell_type": "code",
   "execution_count": 13,
   "id": "07aa8f94",
   "metadata": {},
   "outputs": [
    {
     "data": {
      "text/plain": [
       "\"[{'name': 'TriStar Pictures', 'id': 559}, {'name': 'Teitler Film', 'id': 2550}, {'name': 'Interscope Communications', 'id': 10201}]\""
      ]
     },
     "execution_count": 13,
     "metadata": {},
     "output_type": "execute_result"
    }
   ],
   "source": [
    "df_cleaned.production_companies.iloc[1]"
   ]
  },
  {
   "cell_type": "code",
   "execution_count": 14,
   "id": "86766f9e",
   "metadata": {},
   "outputs": [],
   "source": [
    "dict_ids_to_prod = convert_list_of_dict('production_companies','id','name')"
   ]
  },
  {
   "cell_type": "code",
   "execution_count": 15,
   "id": "e773fcf0",
   "metadata": {},
   "outputs": [],
   "source": [
    "with open(\"./new_movie_data/dict/ids_to_prod.pkl\",\"wb\") as f:\n",
    "    pickle.dump(dict_ids_to_prod,f)"
   ]
  },
  {
   "cell_type": "code",
   "execution_count": 16,
   "id": "4d8d14d3",
   "metadata": {},
   "outputs": [
    {
     "data": {
      "text/plain": [
       "['TriStar Pictures', 'Teitler Film', 'Interscope Communications']"
      ]
     },
     "execution_count": 16,
     "metadata": {},
     "output_type": "execute_result"
    }
   ],
   "source": [
    "with open(\"./new_movie_data/dict/ids_to_prod.pkl\",\"rb\") as f:\n",
    "    d = pickle.load(f)\n",
    "[d.get(i) for i in df_cleaned.production_companies.iloc[1]]"
   ]
  },
  {
   "cell_type": "markdown",
   "id": "b8c2b180",
   "metadata": {},
   "source": [
    "### Spoken Languages"
   ]
  },
  {
   "cell_type": "code",
   "execution_count": 17,
   "id": "bc095d7f",
   "metadata": {},
   "outputs": [
    {
     "data": {
      "text/plain": [
       "\"[{'iso_639_1': 'fr', 'name': 'Français'}, {'iso_639_1': 'en', 'name': 'English'}]\""
      ]
     },
     "execution_count": 17,
     "metadata": {},
     "output_type": "execute_result"
    }
   ],
   "source": [
    "df_cleaned.spoken_languages.iloc[341]"
   ]
  },
  {
   "cell_type": "code",
   "execution_count": 18,
   "id": "fe4b93ee",
   "metadata": {},
   "outputs": [],
   "source": [
    "dict_iso_to_language = convert_list_of_dict(\"spoken_languages\",'iso_639_1','name')"
   ]
  },
  {
   "cell_type": "code",
   "execution_count": 19,
   "id": "c3cf149f",
   "metadata": {},
   "outputs": [],
   "source": [
    "with open(\"./new_movie_data/dict/iso_to_lang.pkl\",\"wb\") as f:\n",
    "    pickle.dump(dict_iso_to_language,f)"
   ]
  },
  {
   "cell_type": "code",
   "execution_count": 20,
   "id": "e9ecfe94",
   "metadata": {},
   "outputs": [],
   "source": [
    "dict_id_to_iso = dict()\n",
    "dict_iso_to_id = dict()\n",
    "for j,i in enumerate(dict_iso_to_language.keys()):\n",
    "    dict_id_to_iso.update({j+1:i})\n",
    "    dict_iso_to_id.update({i:j+1})"
   ]
  },
  {
   "cell_type": "code",
   "execution_count": 21,
   "id": "d6e6e800",
   "metadata": {},
   "outputs": [],
   "source": [
    "with open(\"./new_movie_data/dict/id_to_iso.pkl\",\"wb\") as f:\n",
    "    pickle.dump(dict_id_to_iso,f)"
   ]
  },
  {
   "cell_type": "code",
   "execution_count": 22,
   "id": "e963fb44",
   "metadata": {},
   "outputs": [],
   "source": [
    "l = []\n",
    "for i in df_cleaned.spoken_languages:\n",
    "    l2 = []\n",
    "    for j in i:\n",
    "        l2.append(dict_iso_to_id.get(j))\n",
    "    l.append(l2)\n",
    "df_cleaned.spoken_languages = l"
   ]
  },
  {
   "cell_type": "code",
   "execution_count": 23,
   "id": "d5a6eae7",
   "metadata": {},
   "outputs": [
    {
     "data": {
      "text/plain": [
       "['Français', 'English']"
      ]
     },
     "execution_count": 23,
     "metadata": {},
     "output_type": "execute_result"
    }
   ],
   "source": [
    "with open(\"./new_movie_data/dict/iso_to_lang.pkl\",\"rb\") as f:\n",
    "    d = pickle.load(f)\n",
    "with open(\"./new_movie_data/dict/id_to_iso.pkl\",\"rb\") as f:\n",
    "    d_ = pickle.load(f)\n",
    "[d.get(d_.get(i)) for i in df_cleaned.spoken_languages.iloc[341]]"
   ]
  },
  {
   "cell_type": "markdown",
   "id": "327100cd",
   "metadata": {},
   "source": [
    "### Keywords"
   ]
  },
  {
   "cell_type": "code",
   "execution_count": 24,
   "id": "0c318a9a",
   "metadata": {},
   "outputs": [
    {
     "data": {
      "text/plain": [
       "\"[{'id': 931, 'name': 'jealousy'}, {'id': 4290, 'name': 'toy'}, {'id': 5202, 'name': 'boy'}, {'id': 6054, 'name': 'friendship'}, {'id': 9713, 'name': 'friends'}, {'id': 9823, 'name': 'rivalry'}, {'id': 165503, 'name': 'boy next door'}, {'id': 170722, 'name': 'new toy'}, {'id': 187065, 'name': 'toy comes to life'}]\""
      ]
     },
     "execution_count": 24,
     "metadata": {},
     "output_type": "execute_result"
    }
   ],
   "source": [
    "df_cleaned.keywords.iloc[0]"
   ]
  },
  {
   "cell_type": "code",
   "execution_count": 25,
   "id": "1bf2ab5a",
   "metadata": {},
   "outputs": [],
   "source": [
    "dict_ids_to_keywords = convert_list_of_dict('keywords','id','name')"
   ]
  },
  {
   "cell_type": "code",
   "execution_count": 26,
   "id": "99151fe5",
   "metadata": {},
   "outputs": [],
   "source": [
    "with open(\"./new_movie_data/dict/ids_to_keywords.pkl\",\"wb\") as f:\n",
    "    pickle.dump(dict_ids_to_keywords,f)"
   ]
  },
  {
   "cell_type": "code",
   "execution_count": 27,
   "id": "3f1d6bee",
   "metadata": {},
   "outputs": [
    {
     "data": {
      "text/plain": [
       "['jealousy',\n",
       " 'toy',\n",
       " 'boy',\n",
       " 'friendship',\n",
       " 'friends',\n",
       " 'rivalry',\n",
       " 'boy next door',\n",
       " 'new toy',\n",
       " 'toy comes to life']"
      ]
     },
     "execution_count": 27,
     "metadata": {},
     "output_type": "execute_result"
    }
   ],
   "source": [
    "with open(\"./new_movie_data/dict/ids_to_keywords.pkl\",\"rb\") as f:\n",
    "    d = pickle.load(f)\n",
    "[d.get(i) for i in df_cleaned.keywords.iloc[0]]"
   ]
  },
  {
   "cell_type": "code",
   "execution_count": 28,
   "id": "e84ee30c",
   "metadata": {},
   "outputs": [],
   "source": [
    "df_cleaned = df_cleaned[[i for i in list(df_cleaned.columns) if i not in remove_col ]]"
   ]
  },
  {
   "cell_type": "code",
   "execution_count": 29,
   "id": "b0a2b869",
   "metadata": {},
   "outputs": [],
   "source": [
    "df_cleaned = df_cleaned.copy()\n",
    "df_cleaned.loc[:, 'adult'] = df_cleaned['adult'].astype(int)"
   ]
  },
  {
   "cell_type": "code",
   "execution_count": 30,
   "id": "cb8b6087",
   "metadata": {},
   "outputs": [
    {
     "data": {
      "text/html": [
       "<div>\n",
       "<style scoped>\n",
       "    .dataframe tbody tr th:only-of-type {\n",
       "        vertical-align: middle;\n",
       "    }\n",
       "\n",
       "    .dataframe tbody tr th {\n",
       "        vertical-align: top;\n",
       "    }\n",
       "\n",
       "    .dataframe thead th {\n",
       "        text-align: right;\n",
       "    }\n",
       "</style>\n",
       "<table border=\"1\" class=\"dataframe\">\n",
       "  <thead>\n",
       "    <tr style=\"text-align: right;\">\n",
       "      <th></th>\n",
       "      <th>id</th>\n",
       "      <th>adult</th>\n",
       "      <th>belongs_to_collection</th>\n",
       "      <th>genres</th>\n",
       "      <th>overview</th>\n",
       "      <th>popularity</th>\n",
       "      <th>production_companies</th>\n",
       "      <th>release_date</th>\n",
       "      <th>runtime</th>\n",
       "      <th>spoken_languages</th>\n",
       "      <th>title</th>\n",
       "      <th>vote_average</th>\n",
       "      <th>vote_count</th>\n",
       "      <th>keywords</th>\n",
       "    </tr>\n",
       "  </thead>\n",
       "  <tbody>\n",
       "    <tr>\n",
       "      <th>0</th>\n",
       "      <td>862</td>\n",
       "      <td>0</td>\n",
       "      <td>10194.0</td>\n",
       "      <td>[16, 35, 10751]</td>\n",
       "      <td>Led by Woody, Andy's toys live happily in his ...</td>\n",
       "      <td>21.946943</td>\n",
       "      <td>[3]</td>\n",
       "      <td>1995</td>\n",
       "      <td>81.0</td>\n",
       "      <td>[1]</td>\n",
       "      <td>Toy Story</td>\n",
       "      <td>7.7</td>\n",
       "      <td>5415.0</td>\n",
       "      <td>[931, 4290, 5202, 6054, 9713, 9823, 165503, 17...</td>\n",
       "    </tr>\n",
       "    <tr>\n",
       "      <th>1</th>\n",
       "      <td>8844</td>\n",
       "      <td>0</td>\n",
       "      <td>NaN</td>\n",
       "      <td>[12, 14, 10751]</td>\n",
       "      <td>When siblings Judy and Peter discover an encha...</td>\n",
       "      <td>17.015539</td>\n",
       "      <td>[559, 2550, 10201]</td>\n",
       "      <td>1995</td>\n",
       "      <td>104.0</td>\n",
       "      <td>[1, 2]</td>\n",
       "      <td>Jumanji</td>\n",
       "      <td>6.9</td>\n",
       "      <td>2413.0</td>\n",
       "      <td>[10090, 10941, 15101, 33467, 158086, 158091]</td>\n",
       "    </tr>\n",
       "    <tr>\n",
       "      <th>2</th>\n",
       "      <td>15602</td>\n",
       "      <td>0</td>\n",
       "      <td>119050.0</td>\n",
       "      <td>[10749, 35]</td>\n",
       "      <td>A family wedding reignites the ancient feud be...</td>\n",
       "      <td>11.712900</td>\n",
       "      <td>[6194, 19464]</td>\n",
       "      <td>1995</td>\n",
       "      <td>101.0</td>\n",
       "      <td>[1]</td>\n",
       "      <td>Grumpier Old Men</td>\n",
       "      <td>6.5</td>\n",
       "      <td>92.0</td>\n",
       "      <td>[1495, 12392, 179431, 208510]</td>\n",
       "    </tr>\n",
       "    <tr>\n",
       "      <th>3</th>\n",
       "      <td>31357</td>\n",
       "      <td>0</td>\n",
       "      <td>NaN</td>\n",
       "      <td>[35, 18, 10749]</td>\n",
       "      <td>Cheated on, mistreated and stepped on, the wom...</td>\n",
       "      <td>3.859495</td>\n",
       "      <td>[306]</td>\n",
       "      <td>1995</td>\n",
       "      <td>127.0</td>\n",
       "      <td>[1]</td>\n",
       "      <td>Waiting to Exhale</td>\n",
       "      <td>6.1</td>\n",
       "      <td>34.0</td>\n",
       "      <td>[818, 10131, 14768, 15160, 33455]</td>\n",
       "    </tr>\n",
       "    <tr>\n",
       "      <th>4</th>\n",
       "      <td>11862</td>\n",
       "      <td>0</td>\n",
       "      <td>96871.0</td>\n",
       "      <td>[35]</td>\n",
       "      <td>Just when George Banks has recovered from his ...</td>\n",
       "      <td>8.387519</td>\n",
       "      <td>[5842, 9195]</td>\n",
       "      <td>1995</td>\n",
       "      <td>106.0</td>\n",
       "      <td>[1]</td>\n",
       "      <td>Father of the Bride Part II</td>\n",
       "      <td>5.7</td>\n",
       "      <td>173.0</td>\n",
       "      <td>[1009, 1599, 2246, 4995, 5600, 10707, 13149, 3...</td>\n",
       "    </tr>\n",
       "  </tbody>\n",
       "</table>\n",
       "</div>"
      ],
      "text/plain": [
       "      id  adult  belongs_to_collection           genres  \\\n",
       "0    862      0                10194.0  [16, 35, 10751]   \n",
       "1   8844      0                    NaN  [12, 14, 10751]   \n",
       "2  15602      0               119050.0      [10749, 35]   \n",
       "3  31357      0                    NaN  [35, 18, 10749]   \n",
       "4  11862      0                96871.0             [35]   \n",
       "\n",
       "                                            overview  popularity  \\\n",
       "0  Led by Woody, Andy's toys live happily in his ...   21.946943   \n",
       "1  When siblings Judy and Peter discover an encha...   17.015539   \n",
       "2  A family wedding reignites the ancient feud be...   11.712900   \n",
       "3  Cheated on, mistreated and stepped on, the wom...    3.859495   \n",
       "4  Just when George Banks has recovered from his ...    8.387519   \n",
       "\n",
       "  production_companies  release_date  runtime spoken_languages  \\\n",
       "0                  [3]          1995     81.0              [1]   \n",
       "1   [559, 2550, 10201]          1995    104.0           [1, 2]   \n",
       "2        [6194, 19464]          1995    101.0              [1]   \n",
       "3                [306]          1995    127.0              [1]   \n",
       "4         [5842, 9195]          1995    106.0              [1]   \n",
       "\n",
       "                         title  vote_average  vote_count  \\\n",
       "0                    Toy Story           7.7      5415.0   \n",
       "1                      Jumanji           6.9      2413.0   \n",
       "2             Grumpier Old Men           6.5        92.0   \n",
       "3            Waiting to Exhale           6.1        34.0   \n",
       "4  Father of the Bride Part II           5.7       173.0   \n",
       "\n",
       "                                            keywords  \n",
       "0  [931, 4290, 5202, 6054, 9713, 9823, 165503, 17...  \n",
       "1       [10090, 10941, 15101, 33467, 158086, 158091]  \n",
       "2                      [1495, 12392, 179431, 208510]  \n",
       "3                  [818, 10131, 14768, 15160, 33455]  \n",
       "4  [1009, 1599, 2246, 4995, 5600, 10707, 13149, 3...  "
      ]
     },
     "execution_count": 30,
     "metadata": {},
     "output_type": "execute_result"
    }
   ],
   "source": [
    "df_cleaned.head()"
   ]
  },
  {
   "cell_type": "code",
   "execution_count": 31,
   "id": "37018b36",
   "metadata": {},
   "outputs": [],
   "source": [
    "df_cleaned.to_csv(\"./new_movie_data/final_cleaned.csv\",index = False)"
   ]
  },
  {
   "cell_type": "code",
   "execution_count": 91,
   "id": "c0895e42",
   "metadata": {},
   "outputs": [],
   "source": [
    "df = pd.read_csv(\"./new_movie_data/final_cleaned.csv\")"
   ]
  },
  {
   "cell_type": "markdown",
   "id": "412bb609",
   "metadata": {},
   "source": [
    "#### Forgot the credits file :("
   ]
  },
  {
   "cell_type": "code",
   "execution_count": 92,
   "id": "7ea22d44",
   "metadata": {},
   "outputs": [],
   "source": [
    "df_c = pd.read_csv(\"./new_movie_data/credits.csv\")\n",
    "df_c_new = pd.merge(df,df_c,on='id')"
   ]
  },
  {
   "cell_type": "code",
   "execution_count": 93,
   "id": "05bf6666",
   "metadata": {},
   "outputs": [
    {
     "data": {
      "text/plain": [
       "['Tom Hanks',\n",
       " 'Tim Allen',\n",
       " 'Don Rickles',\n",
       " 'Jim Varney',\n",
       " 'Wallace Shawn',\n",
       " 'John Ratzenberger',\n",
       " 'Annie Potts',\n",
       " 'John Morris',\n",
       " 'Erik von Detten',\n",
       " 'Laurie Metcalf',\n",
       " 'R. Lee Ermey',\n",
       " 'Sarah Freeman',\n",
       " 'Penn Jillette']"
      ]
     },
     "execution_count": 93,
     "metadata": {},
     "output_type": "execute_result"
    }
   ],
   "source": [
    "[i.get('name') for i in eval(df_c_new.cast.iloc[0])]"
   ]
  },
  {
   "cell_type": "code",
   "execution_count": 94,
   "id": "fa8c826e",
   "metadata": {},
   "outputs": [],
   "source": [
    "dict_ids_to_cast = dict()\n",
    "l = []\n",
    "for j in df_c_new.cast:\n",
    "    l2 = []\n",
    "    for i in sorted(eval(j), key=lambda d: d['order']):\n",
    "        l2.append(i.get('id'))\n",
    "        dict_ids_to_cast.update({i.get('id') : i.get('name')})\n",
    "    l.append(l2)\n",
    "df_c_new.cast = l"
   ]
  },
  {
   "cell_type": "code",
   "execution_count": 95,
   "id": "dc368574",
   "metadata": {},
   "outputs": [],
   "source": [
    "with open(\"./new_movie_data/dict/ids_to_cast.pkl\",\"wb\") as f:\n",
    "    pickle.dump(dict_ids_to_cast,f)"
   ]
  },
  {
   "cell_type": "code",
   "execution_count": 96,
   "id": "4ddd6e85",
   "metadata": {},
   "outputs": [
    {
     "data": {
      "text/plain": [
       "['Tom Hanks',\n",
       " 'Tim Allen',\n",
       " 'Don Rickles',\n",
       " 'Jim Varney',\n",
       " 'Wallace Shawn',\n",
       " 'John Ratzenberger',\n",
       " 'Annie Potts',\n",
       " 'John Morris',\n",
       " 'Erik von Detten',\n",
       " 'Laurie Metcalf',\n",
       " 'R. Lee Ermey',\n",
       " 'Sarah Freeman',\n",
       " 'Penn Jillette']"
      ]
     },
     "execution_count": 96,
     "metadata": {},
     "output_type": "execute_result"
    }
   ],
   "source": [
    "with open(\"./new_movie_data/dict/ids_to_cast.pkl\",\"rb\") as f:\n",
    "    d = pickle.load(f)\n",
    "[d.get(i) for i in df_c_new.cast.iloc[0]]"
   ]
  },
  {
   "cell_type": "code",
   "execution_count": 97,
   "id": "4222ae75",
   "metadata": {},
   "outputs": [
    {
     "data": {
      "text/html": [
       "<div>\n",
       "<style scoped>\n",
       "    .dataframe tbody tr th:only-of-type {\n",
       "        vertical-align: middle;\n",
       "    }\n",
       "\n",
       "    .dataframe tbody tr th {\n",
       "        vertical-align: top;\n",
       "    }\n",
       "\n",
       "    .dataframe thead th {\n",
       "        text-align: right;\n",
       "    }\n",
       "</style>\n",
       "<table border=\"1\" class=\"dataframe\">\n",
       "  <thead>\n",
       "    <tr style=\"text-align: right;\">\n",
       "      <th></th>\n",
       "      <th>id</th>\n",
       "      <th>adult</th>\n",
       "      <th>belongs_to_collection</th>\n",
       "      <th>genres</th>\n",
       "      <th>overview</th>\n",
       "      <th>popularity</th>\n",
       "      <th>production_companies</th>\n",
       "      <th>release_date</th>\n",
       "      <th>runtime</th>\n",
       "      <th>spoken_languages</th>\n",
       "      <th>title</th>\n",
       "      <th>vote_average</th>\n",
       "      <th>vote_count</th>\n",
       "      <th>keywords</th>\n",
       "      <th>cast</th>\n",
       "      <th>crew</th>\n",
       "    </tr>\n",
       "  </thead>\n",
       "  <tbody>\n",
       "    <tr>\n",
       "      <th>0</th>\n",
       "      <td>862</td>\n",
       "      <td>0</td>\n",
       "      <td>10194.0</td>\n",
       "      <td>[16, 35, 10751]</td>\n",
       "      <td>Led by Woody, Andy's toys live happily in his ...</td>\n",
       "      <td>21.946943</td>\n",
       "      <td>[3]</td>\n",
       "      <td>1995</td>\n",
       "      <td>81.0</td>\n",
       "      <td>[1]</td>\n",
       "      <td>Toy Story</td>\n",
       "      <td>7.7</td>\n",
       "      <td>5415.0</td>\n",
       "      <td>[931, 4290, 5202, 6054, 9713, 9823, 165503, 17...</td>\n",
       "      <td>[31, 12898, 7167, 12899, 12900, 7907, 8873, 11...</td>\n",
       "      <td>[{'credit_id': '52fe4284c3a36847f8024f49', 'de...</td>\n",
       "    </tr>\n",
       "    <tr>\n",
       "      <th>1</th>\n",
       "      <td>8844</td>\n",
       "      <td>0</td>\n",
       "      <td>NaN</td>\n",
       "      <td>[12, 14, 10751]</td>\n",
       "      <td>When siblings Judy and Peter discover an encha...</td>\n",
       "      <td>17.015539</td>\n",
       "      <td>[559, 2550, 10201]</td>\n",
       "      <td>1995</td>\n",
       "      <td>104.0</td>\n",
       "      <td>[1, 2]</td>\n",
       "      <td>Jumanji</td>\n",
       "      <td>6.9</td>\n",
       "      <td>2413.0</td>\n",
       "      <td>[10090, 10941, 15101, 33467, 158086, 158091]</td>\n",
       "      <td>[2157, 8537, 205, 145151, 5149, 10739, 58563, ...</td>\n",
       "      <td>[{'credit_id': '52fe44bfc3a36847f80a7cd1', 'de...</td>\n",
       "    </tr>\n",
       "    <tr>\n",
       "      <th>2</th>\n",
       "      <td>15602</td>\n",
       "      <td>0</td>\n",
       "      <td>119050.0</td>\n",
       "      <td>[10749, 35]</td>\n",
       "      <td>A family wedding reignites the ancient feud be...</td>\n",
       "      <td>11.712900</td>\n",
       "      <td>[6194, 19464]</td>\n",
       "      <td>1995</td>\n",
       "      <td>101.0</td>\n",
       "      <td>[1]</td>\n",
       "      <td>Grumpier Old Men</td>\n",
       "      <td>6.5</td>\n",
       "      <td>92.0</td>\n",
       "      <td>[1495, 12392, 179431, 208510]</td>\n",
       "      <td>[6837, 3151, 13567, 16757, 589, 16523, 7166]</td>\n",
       "      <td>[{'credit_id': '52fe466a9251416c75077a89', 'de...</td>\n",
       "    </tr>\n",
       "    <tr>\n",
       "      <th>3</th>\n",
       "      <td>31357</td>\n",
       "      <td>0</td>\n",
       "      <td>NaN</td>\n",
       "      <td>[35, 18, 10749]</td>\n",
       "      <td>Cheated on, mistreated and stepped on, the wom...</td>\n",
       "      <td>3.859495</td>\n",
       "      <td>[306]</td>\n",
       "      <td>1995</td>\n",
       "      <td>127.0</td>\n",
       "      <td>[1]</td>\n",
       "      <td>Waiting to Exhale</td>\n",
       "      <td>6.1</td>\n",
       "      <td>34.0</td>\n",
       "      <td>[818, 10131, 14768, 15160, 33455]</td>\n",
       "      <td>[8851, 9780, 18284, 51359, 66804, 352, 87118, ...</td>\n",
       "      <td>[{'credit_id': '52fe44779251416c91011acb', 'de...</td>\n",
       "    </tr>\n",
       "    <tr>\n",
       "      <th>4</th>\n",
       "      <td>11862</td>\n",
       "      <td>0</td>\n",
       "      <td>96871.0</td>\n",
       "      <td>[35]</td>\n",
       "      <td>Just when George Banks has recovered from his ...</td>\n",
       "      <td>8.387519</td>\n",
       "      <td>[5842, 9195]</td>\n",
       "      <td>1995</td>\n",
       "      <td>106.0</td>\n",
       "      <td>[1]</td>\n",
       "      <td>Father of the Bride Part II</td>\n",
       "      <td>5.7</td>\n",
       "      <td>173.0</td>\n",
       "      <td>[1009, 1599, 2246, 4995, 5600, 10707, 13149, 3...</td>\n",
       "      <td>[67773, 3092, 519, 70696, 59222, 18793, 14592,...</td>\n",
       "      <td>[{'credit_id': '52fe44959251416c75039ed7', 'de...</td>\n",
       "    </tr>\n",
       "  </tbody>\n",
       "</table>\n",
       "</div>"
      ],
      "text/plain": [
       "      id  adult  belongs_to_collection           genres  \\\n",
       "0    862      0                10194.0  [16, 35, 10751]   \n",
       "1   8844      0                    NaN  [12, 14, 10751]   \n",
       "2  15602      0               119050.0      [10749, 35]   \n",
       "3  31357      0                    NaN  [35, 18, 10749]   \n",
       "4  11862      0                96871.0             [35]   \n",
       "\n",
       "                                            overview  popularity  \\\n",
       "0  Led by Woody, Andy's toys live happily in his ...   21.946943   \n",
       "1  When siblings Judy and Peter discover an encha...   17.015539   \n",
       "2  A family wedding reignites the ancient feud be...   11.712900   \n",
       "3  Cheated on, mistreated and stepped on, the wom...    3.859495   \n",
       "4  Just when George Banks has recovered from his ...    8.387519   \n",
       "\n",
       "  production_companies  release_date  runtime spoken_languages  \\\n",
       "0                  [3]          1995     81.0              [1]   \n",
       "1   [559, 2550, 10201]          1995    104.0           [1, 2]   \n",
       "2        [6194, 19464]          1995    101.0              [1]   \n",
       "3                [306]          1995    127.0              [1]   \n",
       "4         [5842, 9195]          1995    106.0              [1]   \n",
       "\n",
       "                         title  vote_average  vote_count  \\\n",
       "0                    Toy Story           7.7      5415.0   \n",
       "1                      Jumanji           6.9      2413.0   \n",
       "2             Grumpier Old Men           6.5        92.0   \n",
       "3            Waiting to Exhale           6.1        34.0   \n",
       "4  Father of the Bride Part II           5.7       173.0   \n",
       "\n",
       "                                            keywords  \\\n",
       "0  [931, 4290, 5202, 6054, 9713, 9823, 165503, 17...   \n",
       "1       [10090, 10941, 15101, 33467, 158086, 158091]   \n",
       "2                      [1495, 12392, 179431, 208510]   \n",
       "3                  [818, 10131, 14768, 15160, 33455]   \n",
       "4  [1009, 1599, 2246, 4995, 5600, 10707, 13149, 3...   \n",
       "\n",
       "                                                cast  \\\n",
       "0  [31, 12898, 7167, 12899, 12900, 7907, 8873, 11...   \n",
       "1  [2157, 8537, 205, 145151, 5149, 10739, 58563, ...   \n",
       "2       [6837, 3151, 13567, 16757, 589, 16523, 7166]   \n",
       "3  [8851, 9780, 18284, 51359, 66804, 352, 87118, ...   \n",
       "4  [67773, 3092, 519, 70696, 59222, 18793, 14592,...   \n",
       "\n",
       "                                                crew  \n",
       "0  [{'credit_id': '52fe4284c3a36847f8024f49', 'de...  \n",
       "1  [{'credit_id': '52fe44bfc3a36847f80a7cd1', 'de...  \n",
       "2  [{'credit_id': '52fe466a9251416c75077a89', 'de...  \n",
       "3  [{'credit_id': '52fe44779251416c91011acb', 'de...  \n",
       "4  [{'credit_id': '52fe44959251416c75039ed7', 'de...  "
      ]
     },
     "execution_count": 97,
     "metadata": {},
     "output_type": "execute_result"
    }
   ],
   "source": [
    "df_c_new.head()"
   ]
  },
  {
   "cell_type": "code",
   "execution_count": 98,
   "id": "8f469445",
   "metadata": {},
   "outputs": [
    {
     "data": {
      "text/plain": [
       "['John Lasseter',\n",
       " 'Joss Whedon',\n",
       " 'Andrew Stanton',\n",
       " 'Joel Cohen',\n",
       " 'Alec Sokolow']"
      ]
     },
     "execution_count": 98,
     "metadata": {},
     "output_type": "execute_result"
    }
   ],
   "source": [
    "[i.get('name') for i in eval(df_c_new.crew.iloc[0])][:5]"
   ]
  },
  {
   "cell_type": "code",
   "execution_count": 99,
   "id": "2baec0dc",
   "metadata": {},
   "outputs": [],
   "source": [
    "dict_ids_to_crew = dict()\n",
    "l = []\n",
    "for i in df_c_new['crew']:\n",
    "    l2 = []\n",
    "    for j in eval(i):\n",
    "        l2.append(j.get('id'))\n",
    "        dict_ids_to_crew.update({j.get('id'): j.get('name')})\n",
    "    l.append(l2)\n",
    "df_c_new['crew'] = l"
   ]
  },
  {
   "cell_type": "code",
   "execution_count": 101,
   "id": "f83c5dbe",
   "metadata": {},
   "outputs": [],
   "source": [
    "with open(\"./new_movie_data/dict/ids_to_crew.pkl\",\"wb\") as f:\n",
    "    pickle.dump(dict_ids_to_crew,f)"
   ]
  },
  {
   "cell_type": "code",
   "execution_count": 103,
   "id": "effb5be6",
   "metadata": {},
   "outputs": [
    {
     "data": {
      "text/plain": [
       "['John Lasseter',\n",
       " 'Joss Whedon',\n",
       " 'Andrew Stanton',\n",
       " 'Joel Cohen',\n",
       " 'Alec Sokolow']"
      ]
     },
     "execution_count": 103,
     "metadata": {},
     "output_type": "execute_result"
    }
   ],
   "source": [
    "with open(\"./new_movie_data/dict/ids_to_crew.pkl\",\"rb\") as f:\n",
    "    d = pickle.load(f)\n",
    "[d.get(i) for i in df_c_new.crew.iloc[0]][:5]"
   ]
  },
  {
   "cell_type": "code",
   "execution_count": 105,
   "id": "04ca9038",
   "metadata": {},
   "outputs": [
    {
     "data": {
      "text/html": [
       "<div>\n",
       "<style scoped>\n",
       "    .dataframe tbody tr th:only-of-type {\n",
       "        vertical-align: middle;\n",
       "    }\n",
       "\n",
       "    .dataframe tbody tr th {\n",
       "        vertical-align: top;\n",
       "    }\n",
       "\n",
       "    .dataframe thead th {\n",
       "        text-align: right;\n",
       "    }\n",
       "</style>\n",
       "<table border=\"1\" class=\"dataframe\">\n",
       "  <thead>\n",
       "    <tr style=\"text-align: right;\">\n",
       "      <th></th>\n",
       "      <th>id</th>\n",
       "      <th>adult</th>\n",
       "      <th>belongs_to_collection</th>\n",
       "      <th>genres</th>\n",
       "      <th>overview</th>\n",
       "      <th>popularity</th>\n",
       "      <th>production_companies</th>\n",
       "      <th>release_date</th>\n",
       "      <th>runtime</th>\n",
       "      <th>spoken_languages</th>\n",
       "      <th>title</th>\n",
       "      <th>vote_average</th>\n",
       "      <th>vote_count</th>\n",
       "      <th>keywords</th>\n",
       "      <th>cast</th>\n",
       "      <th>crew</th>\n",
       "    </tr>\n",
       "  </thead>\n",
       "  <tbody>\n",
       "    <tr>\n",
       "      <th>0</th>\n",
       "      <td>862</td>\n",
       "      <td>0</td>\n",
       "      <td>10194.0</td>\n",
       "      <td>[16, 35, 10751]</td>\n",
       "      <td>Led by Woody, Andy's toys live happily in his ...</td>\n",
       "      <td>21.946943</td>\n",
       "      <td>[3]</td>\n",
       "      <td>1995</td>\n",
       "      <td>81.0</td>\n",
       "      <td>[1]</td>\n",
       "      <td>Toy Story</td>\n",
       "      <td>7.7</td>\n",
       "      <td>5415.0</td>\n",
       "      <td>[931, 4290, 5202, 6054, 9713, 9823, 165503, 17...</td>\n",
       "      <td>[31, 12898, 7167, 12899, 12900, 7907, 8873, 11...</td>\n",
       "      <td>[7879, 12891, 7, 12892, 12893, 12894, 12895, 1...</td>\n",
       "    </tr>\n",
       "    <tr>\n",
       "      <th>1</th>\n",
       "      <td>8844</td>\n",
       "      <td>0</td>\n",
       "      <td>NaN</td>\n",
       "      <td>[12, 14, 10751]</td>\n",
       "      <td>When siblings Judy and Peter discover an encha...</td>\n",
       "      <td>17.015539</td>\n",
       "      <td>[559, 2550, 10201]</td>\n",
       "      <td>1995</td>\n",
       "      <td>104.0</td>\n",
       "      <td>[1, 2]</td>\n",
       "      <td>Jumanji</td>\n",
       "      <td>6.9</td>\n",
       "      <td>2413.0</td>\n",
       "      <td>[10090, 10941, 15101, 33467, 158086, 158091]</td>\n",
       "      <td>[2157, 8537, 205, 145151, 5149, 10739, 58563, ...</td>\n",
       "      <td>[511, 876, 1729, 4945, 4951, 4952, 8023, 9967,...</td>\n",
       "    </tr>\n",
       "    <tr>\n",
       "      <th>2</th>\n",
       "      <td>15602</td>\n",
       "      <td>0</td>\n",
       "      <td>119050.0</td>\n",
       "      <td>[10749, 35]</td>\n",
       "      <td>A family wedding reignites the ancient feud be...</td>\n",
       "      <td>11.712900</td>\n",
       "      <td>[6194, 19464]</td>\n",
       "      <td>1995</td>\n",
       "      <td>101.0</td>\n",
       "      <td>[1]</td>\n",
       "      <td>Grumpier Old Men</td>\n",
       "      <td>6.5</td>\n",
       "      <td>92.0</td>\n",
       "      <td>[1495, 12392, 179431, 208510]</td>\n",
       "      <td>[6837, 3151, 13567, 16757, 589, 16523, 7166]</td>\n",
       "      <td>[26502, 16837, 16837, 1551320]</td>\n",
       "    </tr>\n",
       "    <tr>\n",
       "      <th>3</th>\n",
       "      <td>31357</td>\n",
       "      <td>0</td>\n",
       "      <td>NaN</td>\n",
       "      <td>[35, 18, 10749]</td>\n",
       "      <td>Cheated on, mistreated and stepped on, the wom...</td>\n",
       "      <td>3.859495</td>\n",
       "      <td>[306]</td>\n",
       "      <td>1995</td>\n",
       "      <td>127.0</td>\n",
       "      <td>[1]</td>\n",
       "      <td>Waiting to Exhale</td>\n",
       "      <td>6.1</td>\n",
       "      <td>34.0</td>\n",
       "      <td>[818, 10131, 14768, 15160, 33455]</td>\n",
       "      <td>[8851, 9780, 18284, 51359, 66804, 352, 87118, ...</td>\n",
       "      <td>[2178, 5144, 5144, 21968, 70592, 111118, 11111...</td>\n",
       "    </tr>\n",
       "    <tr>\n",
       "      <th>4</th>\n",
       "      <td>11862</td>\n",
       "      <td>0</td>\n",
       "      <td>96871.0</td>\n",
       "      <td>[35]</td>\n",
       "      <td>Just when George Banks has recovered from his ...</td>\n",
       "      <td>8.387519</td>\n",
       "      <td>[5842, 9195]</td>\n",
       "      <td>1995</td>\n",
       "      <td>106.0</td>\n",
       "      <td>[1]</td>\n",
       "      <td>Father of the Bride Part II</td>\n",
       "      <td>5.7</td>\n",
       "      <td>173.0</td>\n",
       "      <td>[1009, 1599, 2246, 4995, 5600, 10707, 13149, 3...</td>\n",
       "      <td>[67773, 3092, 519, 70696, 59222, 18793, 14592,...</td>\n",
       "      <td>[37, 5506, 17698, 17698, 26160, 56106, 68755]</td>\n",
       "    </tr>\n",
       "  </tbody>\n",
       "</table>\n",
       "</div>"
      ],
      "text/plain": [
       "      id  adult  belongs_to_collection           genres  \\\n",
       "0    862      0                10194.0  [16, 35, 10751]   \n",
       "1   8844      0                    NaN  [12, 14, 10751]   \n",
       "2  15602      0               119050.0      [10749, 35]   \n",
       "3  31357      0                    NaN  [35, 18, 10749]   \n",
       "4  11862      0                96871.0             [35]   \n",
       "\n",
       "                                            overview  popularity  \\\n",
       "0  Led by Woody, Andy's toys live happily in his ...   21.946943   \n",
       "1  When siblings Judy and Peter discover an encha...   17.015539   \n",
       "2  A family wedding reignites the ancient feud be...   11.712900   \n",
       "3  Cheated on, mistreated and stepped on, the wom...    3.859495   \n",
       "4  Just when George Banks has recovered from his ...    8.387519   \n",
       "\n",
       "  production_companies  release_date  runtime spoken_languages  \\\n",
       "0                  [3]          1995     81.0              [1]   \n",
       "1   [559, 2550, 10201]          1995    104.0           [1, 2]   \n",
       "2        [6194, 19464]          1995    101.0              [1]   \n",
       "3                [306]          1995    127.0              [1]   \n",
       "4         [5842, 9195]          1995    106.0              [1]   \n",
       "\n",
       "                         title  vote_average  vote_count  \\\n",
       "0                    Toy Story           7.7      5415.0   \n",
       "1                      Jumanji           6.9      2413.0   \n",
       "2             Grumpier Old Men           6.5        92.0   \n",
       "3            Waiting to Exhale           6.1        34.0   \n",
       "4  Father of the Bride Part II           5.7       173.0   \n",
       "\n",
       "                                            keywords  \\\n",
       "0  [931, 4290, 5202, 6054, 9713, 9823, 165503, 17...   \n",
       "1       [10090, 10941, 15101, 33467, 158086, 158091]   \n",
       "2                      [1495, 12392, 179431, 208510]   \n",
       "3                  [818, 10131, 14768, 15160, 33455]   \n",
       "4  [1009, 1599, 2246, 4995, 5600, 10707, 13149, 3...   \n",
       "\n",
       "                                                cast  \\\n",
       "0  [31, 12898, 7167, 12899, 12900, 7907, 8873, 11...   \n",
       "1  [2157, 8537, 205, 145151, 5149, 10739, 58563, ...   \n",
       "2       [6837, 3151, 13567, 16757, 589, 16523, 7166]   \n",
       "3  [8851, 9780, 18284, 51359, 66804, 352, 87118, ...   \n",
       "4  [67773, 3092, 519, 70696, 59222, 18793, 14592,...   \n",
       "\n",
       "                                                crew  \n",
       "0  [7879, 12891, 7, 12892, 12893, 12894, 12895, 1...  \n",
       "1  [511, 876, 1729, 4945, 4951, 4952, 8023, 9967,...  \n",
       "2                     [26502, 16837, 16837, 1551320]  \n",
       "3  [2178, 5144, 5144, 21968, 70592, 111118, 11111...  \n",
       "4      [37, 5506, 17698, 17698, 26160, 56106, 68755]  "
      ]
     },
     "execution_count": 105,
     "metadata": {},
     "output_type": "execute_result"
    }
   ],
   "source": [
    "df_c_new.head()"
   ]
  },
  {
   "cell_type": "code",
   "execution_count": 106,
   "id": "95daea6b",
   "metadata": {},
   "outputs": [],
   "source": [
    "df_c_new.to_csv(\"./new_movie_data/final_cleaned_2.csv\",index = False)"
   ]
  },
  {
   "cell_type": "code",
   "execution_count": 107,
   "id": "de9cd4c0",
   "metadata": {},
   "outputs": [
    {
     "data": {
      "text/html": [
       "<div>\n",
       "<style scoped>\n",
       "    .dataframe tbody tr th:only-of-type {\n",
       "        vertical-align: middle;\n",
       "    }\n",
       "\n",
       "    .dataframe tbody tr th {\n",
       "        vertical-align: top;\n",
       "    }\n",
       "\n",
       "    .dataframe thead th {\n",
       "        text-align: right;\n",
       "    }\n",
       "</style>\n",
       "<table border=\"1\" class=\"dataframe\">\n",
       "  <thead>\n",
       "    <tr style=\"text-align: right;\">\n",
       "      <th></th>\n",
       "      <th>id</th>\n",
       "      <th>adult</th>\n",
       "      <th>belongs_to_collection</th>\n",
       "      <th>genres</th>\n",
       "      <th>overview</th>\n",
       "      <th>popularity</th>\n",
       "      <th>production_companies</th>\n",
       "      <th>release_date</th>\n",
       "      <th>runtime</th>\n",
       "      <th>spoken_languages</th>\n",
       "      <th>title</th>\n",
       "      <th>vote_average</th>\n",
       "      <th>vote_count</th>\n",
       "      <th>keywords</th>\n",
       "      <th>cast</th>\n",
       "      <th>crew</th>\n",
       "    </tr>\n",
       "  </thead>\n",
       "  <tbody>\n",
       "    <tr>\n",
       "      <th>0</th>\n",
       "      <td>862</td>\n",
       "      <td>0</td>\n",
       "      <td>10194.0</td>\n",
       "      <td>[16, 35, 10751]</td>\n",
       "      <td>Led by Woody, Andy's toys live happily in his ...</td>\n",
       "      <td>21.946943</td>\n",
       "      <td>[3]</td>\n",
       "      <td>1995</td>\n",
       "      <td>81.0</td>\n",
       "      <td>[1]</td>\n",
       "      <td>Toy Story</td>\n",
       "      <td>7.7</td>\n",
       "      <td>5415.0</td>\n",
       "      <td>[931, 4290, 5202, 6054, 9713, 9823, 165503, 17...</td>\n",
       "      <td>[31, 12898, 7167, 12899, 12900, 7907, 8873, 11...</td>\n",
       "      <td>[7879, 12891, 7, 12892, 12893, 12894, 12895, 1...</td>\n",
       "    </tr>\n",
       "    <tr>\n",
       "      <th>1</th>\n",
       "      <td>8844</td>\n",
       "      <td>0</td>\n",
       "      <td>NaN</td>\n",
       "      <td>[12, 14, 10751]</td>\n",
       "      <td>When siblings Judy and Peter discover an encha...</td>\n",
       "      <td>17.015539</td>\n",
       "      <td>[559, 2550, 10201]</td>\n",
       "      <td>1995</td>\n",
       "      <td>104.0</td>\n",
       "      <td>[1, 2]</td>\n",
       "      <td>Jumanji</td>\n",
       "      <td>6.9</td>\n",
       "      <td>2413.0</td>\n",
       "      <td>[10090, 10941, 15101, 33467, 158086, 158091]</td>\n",
       "      <td>[2157, 8537, 205, 145151, 5149, 10739, 58563, ...</td>\n",
       "      <td>[511, 876, 1729, 4945, 4951, 4952, 8023, 9967,...</td>\n",
       "    </tr>\n",
       "    <tr>\n",
       "      <th>2</th>\n",
       "      <td>15602</td>\n",
       "      <td>0</td>\n",
       "      <td>119050.0</td>\n",
       "      <td>[10749, 35]</td>\n",
       "      <td>A family wedding reignites the ancient feud be...</td>\n",
       "      <td>11.712900</td>\n",
       "      <td>[6194, 19464]</td>\n",
       "      <td>1995</td>\n",
       "      <td>101.0</td>\n",
       "      <td>[1]</td>\n",
       "      <td>Grumpier Old Men</td>\n",
       "      <td>6.5</td>\n",
       "      <td>92.0</td>\n",
       "      <td>[1495, 12392, 179431, 208510]</td>\n",
       "      <td>[6837, 3151, 13567, 16757, 589, 16523, 7166]</td>\n",
       "      <td>[26502, 16837, 16837, 1551320]</td>\n",
       "    </tr>\n",
       "    <tr>\n",
       "      <th>3</th>\n",
       "      <td>31357</td>\n",
       "      <td>0</td>\n",
       "      <td>NaN</td>\n",
       "      <td>[35, 18, 10749]</td>\n",
       "      <td>Cheated on, mistreated and stepped on, the wom...</td>\n",
       "      <td>3.859495</td>\n",
       "      <td>[306]</td>\n",
       "      <td>1995</td>\n",
       "      <td>127.0</td>\n",
       "      <td>[1]</td>\n",
       "      <td>Waiting to Exhale</td>\n",
       "      <td>6.1</td>\n",
       "      <td>34.0</td>\n",
       "      <td>[818, 10131, 14768, 15160, 33455]</td>\n",
       "      <td>[8851, 9780, 18284, 51359, 66804, 352, 87118, ...</td>\n",
       "      <td>[2178, 5144, 5144, 21968, 70592, 111118, 11111...</td>\n",
       "    </tr>\n",
       "    <tr>\n",
       "      <th>4</th>\n",
       "      <td>11862</td>\n",
       "      <td>0</td>\n",
       "      <td>96871.0</td>\n",
       "      <td>[35]</td>\n",
       "      <td>Just when George Banks has recovered from his ...</td>\n",
       "      <td>8.387519</td>\n",
       "      <td>[5842, 9195]</td>\n",
       "      <td>1995</td>\n",
       "      <td>106.0</td>\n",
       "      <td>[1]</td>\n",
       "      <td>Father of the Bride Part II</td>\n",
       "      <td>5.7</td>\n",
       "      <td>173.0</td>\n",
       "      <td>[1009, 1599, 2246, 4995, 5600, 10707, 13149, 3...</td>\n",
       "      <td>[67773, 3092, 519, 70696, 59222, 18793, 14592,...</td>\n",
       "      <td>[37, 5506, 17698, 17698, 26160, 56106, 68755]</td>\n",
       "    </tr>\n",
       "    <tr>\n",
       "      <th>...</th>\n",
       "      <td>...</td>\n",
       "      <td>...</td>\n",
       "      <td>...</td>\n",
       "      <td>...</td>\n",
       "      <td>...</td>\n",
       "      <td>...</td>\n",
       "      <td>...</td>\n",
       "      <td>...</td>\n",
       "      <td>...</td>\n",
       "      <td>...</td>\n",
       "      <td>...</td>\n",
       "      <td>...</td>\n",
       "      <td>...</td>\n",
       "      <td>...</td>\n",
       "      <td>...</td>\n",
       "      <td>...</td>\n",
       "    </tr>\n",
       "    <tr>\n",
       "      <th>46159</th>\n",
       "      <td>439050</td>\n",
       "      <td>0</td>\n",
       "      <td>NaN</td>\n",
       "      <td>[18, 10751]</td>\n",
       "      <td>Rising and falling between a man and woman.</td>\n",
       "      <td>0.072051</td>\n",
       "      <td>[]</td>\n",
       "      <td>0</td>\n",
       "      <td>90.0</td>\n",
       "      <td>[14]</td>\n",
       "      <td>Subdue</td>\n",
       "      <td>4.0</td>\n",
       "      <td>1.0</td>\n",
       "      <td>[10703]</td>\n",
       "      <td>[240240, 1749839, 1619957]</td>\n",
       "      <td>[1182809, 1182809, 1543705, 1749842, 1749847, ...</td>\n",
       "    </tr>\n",
       "    <tr>\n",
       "      <th>46160</th>\n",
       "      <td>111109</td>\n",
       "      <td>0</td>\n",
       "      <td>NaN</td>\n",
       "      <td>[18]</td>\n",
       "      <td>An artist struggles to finish his work while a...</td>\n",
       "      <td>0.178241</td>\n",
       "      <td>[19653]</td>\n",
       "      <td>2011</td>\n",
       "      <td>360.0</td>\n",
       "      <td>[32]</td>\n",
       "      <td>Century of Birthing</td>\n",
       "      <td>9.0</td>\n",
       "      <td>3.0</td>\n",
       "      <td>[2679, 14531, 215397]</td>\n",
       "      <td>[1043186, 111636, 1204271, 278923, 1042953, 57...</td>\n",
       "      <td>[1051381, 1051381, 1728582, 1051381, 1051381, ...</td>\n",
       "    </tr>\n",
       "    <tr>\n",
       "      <th>46161</th>\n",
       "      <td>67758</td>\n",
       "      <td>0</td>\n",
       "      <td>NaN</td>\n",
       "      <td>[28, 18, 53]</td>\n",
       "      <td>When one of her hits goes wrong, a professiona...</td>\n",
       "      <td>0.903007</td>\n",
       "      <td>[6165]</td>\n",
       "      <td>2003</td>\n",
       "      <td>90.0</td>\n",
       "      <td>[1]</td>\n",
       "      <td>Betrayal</td>\n",
       "      <td>3.8</td>\n",
       "      <td>6.0</td>\n",
       "      <td>[]</td>\n",
       "      <td>[23764, 2059, 46277, 1736, 58646, 54649, 55270...</td>\n",
       "      <td>[67753, 19713, 549355, 549356, 58818]</td>\n",
       "    </tr>\n",
       "    <tr>\n",
       "      <th>46162</th>\n",
       "      <td>227506</td>\n",
       "      <td>0</td>\n",
       "      <td>NaN</td>\n",
       "      <td>[]</td>\n",
       "      <td>In a small town live two brothers, one a minis...</td>\n",
       "      <td>0.003503</td>\n",
       "      <td>[88753]</td>\n",
       "      <td>1917</td>\n",
       "      <td>87.0</td>\n",
       "      <td>[]</td>\n",
       "      <td>Satan Triumphant</td>\n",
       "      <td>0.0</td>\n",
       "      <td>0.0</td>\n",
       "      <td>[]</td>\n",
       "      <td>[544742, 1090923, 1136422, 1261758, 29199]</td>\n",
       "      <td>[1085341, 1195656]</td>\n",
       "    </tr>\n",
       "    <tr>\n",
       "      <th>46163</th>\n",
       "      <td>461257</td>\n",
       "      <td>0</td>\n",
       "      <td>NaN</td>\n",
       "      <td>[]</td>\n",
       "      <td>50 years after decriminalisation of homosexual...</td>\n",
       "      <td>0.163015</td>\n",
       "      <td>[]</td>\n",
       "      <td>2017</td>\n",
       "      <td>75.0</td>\n",
       "      <td>[1]</td>\n",
       "      <td>Queerama</td>\n",
       "      <td>0.0</td>\n",
       "      <td>0.0</td>\n",
       "      <td>[]</td>\n",
       "      <td>[]</td>\n",
       "      <td>[1344495]</td>\n",
       "    </tr>\n",
       "  </tbody>\n",
       "</table>\n",
       "<p>46164 rows × 16 columns</p>\n",
       "</div>"
      ],
      "text/plain": [
       "           id  adult  belongs_to_collection           genres  \\\n",
       "0         862      0                10194.0  [16, 35, 10751]   \n",
       "1        8844      0                    NaN  [12, 14, 10751]   \n",
       "2       15602      0               119050.0      [10749, 35]   \n",
       "3       31357      0                    NaN  [35, 18, 10749]   \n",
       "4       11862      0                96871.0             [35]   \n",
       "...       ...    ...                    ...              ...   \n",
       "46159  439050      0                    NaN      [18, 10751]   \n",
       "46160  111109      0                    NaN             [18]   \n",
       "46161   67758      0                    NaN     [28, 18, 53]   \n",
       "46162  227506      0                    NaN               []   \n",
       "46163  461257      0                    NaN               []   \n",
       "\n",
       "                                                overview  popularity  \\\n",
       "0      Led by Woody, Andy's toys live happily in his ...   21.946943   \n",
       "1      When siblings Judy and Peter discover an encha...   17.015539   \n",
       "2      A family wedding reignites the ancient feud be...   11.712900   \n",
       "3      Cheated on, mistreated and stepped on, the wom...    3.859495   \n",
       "4      Just when George Banks has recovered from his ...    8.387519   \n",
       "...                                                  ...         ...   \n",
       "46159        Rising and falling between a man and woman.    0.072051   \n",
       "46160  An artist struggles to finish his work while a...    0.178241   \n",
       "46161  When one of her hits goes wrong, a professiona...    0.903007   \n",
       "46162  In a small town live two brothers, one a minis...    0.003503   \n",
       "46163  50 years after decriminalisation of homosexual...    0.163015   \n",
       "\n",
       "      production_companies  release_date  runtime spoken_languages  \\\n",
       "0                      [3]          1995     81.0              [1]   \n",
       "1       [559, 2550, 10201]          1995    104.0           [1, 2]   \n",
       "2            [6194, 19464]          1995    101.0              [1]   \n",
       "3                    [306]          1995    127.0              [1]   \n",
       "4             [5842, 9195]          1995    106.0              [1]   \n",
       "...                    ...           ...      ...              ...   \n",
       "46159                   []             0     90.0             [14]   \n",
       "46160              [19653]          2011    360.0             [32]   \n",
       "46161               [6165]          2003     90.0              [1]   \n",
       "46162              [88753]          1917     87.0               []   \n",
       "46163                   []          2017     75.0              [1]   \n",
       "\n",
       "                             title  vote_average  vote_count  \\\n",
       "0                        Toy Story           7.7      5415.0   \n",
       "1                          Jumanji           6.9      2413.0   \n",
       "2                 Grumpier Old Men           6.5        92.0   \n",
       "3                Waiting to Exhale           6.1        34.0   \n",
       "4      Father of the Bride Part II           5.7       173.0   \n",
       "...                            ...           ...         ...   \n",
       "46159                       Subdue           4.0         1.0   \n",
       "46160          Century of Birthing           9.0         3.0   \n",
       "46161                     Betrayal           3.8         6.0   \n",
       "46162             Satan Triumphant           0.0         0.0   \n",
       "46163                     Queerama           0.0         0.0   \n",
       "\n",
       "                                                keywords  \\\n",
       "0      [931, 4290, 5202, 6054, 9713, 9823, 165503, 17...   \n",
       "1           [10090, 10941, 15101, 33467, 158086, 158091]   \n",
       "2                          [1495, 12392, 179431, 208510]   \n",
       "3                      [818, 10131, 14768, 15160, 33455]   \n",
       "4      [1009, 1599, 2246, 4995, 5600, 10707, 13149, 3...   \n",
       "...                                                  ...   \n",
       "46159                                            [10703]   \n",
       "46160                              [2679, 14531, 215397]   \n",
       "46161                                                 []   \n",
       "46162                                                 []   \n",
       "46163                                                 []   \n",
       "\n",
       "                                                    cast  \\\n",
       "0      [31, 12898, 7167, 12899, 12900, 7907, 8873, 11...   \n",
       "1      [2157, 8537, 205, 145151, 5149, 10739, 58563, ...   \n",
       "2           [6837, 3151, 13567, 16757, 589, 16523, 7166]   \n",
       "3      [8851, 9780, 18284, 51359, 66804, 352, 87118, ...   \n",
       "4      [67773, 3092, 519, 70696, 59222, 18793, 14592,...   \n",
       "...                                                  ...   \n",
       "46159                         [240240, 1749839, 1619957]   \n",
       "46160  [1043186, 111636, 1204271, 278923, 1042953, 57...   \n",
       "46161  [23764, 2059, 46277, 1736, 58646, 54649, 55270...   \n",
       "46162         [544742, 1090923, 1136422, 1261758, 29199]   \n",
       "46163                                                 []   \n",
       "\n",
       "                                                    crew  \n",
       "0      [7879, 12891, 7, 12892, 12893, 12894, 12895, 1...  \n",
       "1      [511, 876, 1729, 4945, 4951, 4952, 8023, 9967,...  \n",
       "2                         [26502, 16837, 16837, 1551320]  \n",
       "3      [2178, 5144, 5144, 21968, 70592, 111118, 11111...  \n",
       "4          [37, 5506, 17698, 17698, 26160, 56106, 68755]  \n",
       "...                                                  ...  \n",
       "46159  [1182809, 1182809, 1543705, 1749842, 1749847, ...  \n",
       "46160  [1051381, 1051381, 1728582, 1051381, 1051381, ...  \n",
       "46161              [67753, 19713, 549355, 549356, 58818]  \n",
       "46162                                 [1085341, 1195656]  \n",
       "46163                                          [1344495]  \n",
       "\n",
       "[46164 rows x 16 columns]"
      ]
     },
     "execution_count": 107,
     "metadata": {},
     "output_type": "execute_result"
    }
   ],
   "source": [
    "df = pd.read_csv(\"./new_movie_data/final_cleaned_2.csv\")\n",
    "df"
   ]
  },
  {
   "cell_type": "code",
   "execution_count": null,
   "id": "41ba8010",
   "metadata": {},
   "outputs": [],
   "source": []
  }
 ],
 "metadata": {
  "kernelspec": {
   "display_name": "Python 3 (ipykernel)",
   "language": "python",
   "name": "python3"
  },
  "language_info": {
   "codemirror_mode": {
    "name": "ipython",
    "version": 3
   },
   "file_extension": ".py",
   "mimetype": "text/x-python",
   "name": "python",
   "nbconvert_exporter": "python",
   "pygments_lexer": "ipython3",
   "version": "3.10.9"
  }
 },
 "nbformat": 4,
 "nbformat_minor": 5
}
