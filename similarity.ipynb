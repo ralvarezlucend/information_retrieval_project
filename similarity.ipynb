{
 "cells": [
  {
   "cell_type": "code",
   "execution_count": 1,
   "id": "d97fa107-0831-48fb-a20e-ddf280225d48",
   "metadata": {},
   "outputs": [],
   "source": [
    "import numpy as np\n",
    "import pandas as pd\n",
    "import math"
   ]
  },
  {
   "cell_type": "code",
   "execution_count": 2,
   "id": "4960d3d5-40cc-420f-bf3c-dd8bf129f456",
   "metadata": {},
   "outputs": [],
   "source": [
    "df = pd.read_csv(\"./new_movie_data/final_cleaned_2.csv\")"
   ]
  },
  {
   "cell_type": "code",
   "execution_count": 4,
   "id": "7e389e54-0d9f-4d18-bfad-3899676fd2ec",
   "metadata": {},
   "outputs": [
    {
     "data": {
      "text/html": [
       "<div>\n",
       "<style scoped>\n",
       "    .dataframe tbody tr th:only-of-type {\n",
       "        vertical-align: middle;\n",
       "    }\n",
       "\n",
       "    .dataframe tbody tr th {\n",
       "        vertical-align: top;\n",
       "    }\n",
       "\n",
       "    .dataframe thead th {\n",
       "        text-align: right;\n",
       "    }\n",
       "</style>\n",
       "<table border=\"1\" class=\"dataframe\">\n",
       "  <thead>\n",
       "    <tr style=\"text-align: right;\">\n",
       "      <th></th>\n",
       "      <th>id</th>\n",
       "      <th>adult</th>\n",
       "      <th>belongs_to_collection</th>\n",
       "      <th>genres</th>\n",
       "      <th>overview</th>\n",
       "      <th>popularity</th>\n",
       "      <th>production_companies</th>\n",
       "      <th>release_date</th>\n",
       "      <th>runtime</th>\n",
       "      <th>spoken_languages</th>\n",
       "      <th>title</th>\n",
       "      <th>vote_average</th>\n",
       "      <th>vote_count</th>\n",
       "      <th>keywords</th>\n",
       "      <th>cast</th>\n",
       "      <th>crew</th>\n",
       "    </tr>\n",
       "  </thead>\n",
       "  <tbody>\n",
       "    <tr>\n",
       "      <th>0</th>\n",
       "      <td>862</td>\n",
       "      <td>0</td>\n",
       "      <td>10194.0</td>\n",
       "      <td>[16, 35, 10751]</td>\n",
       "      <td>Led by Woody, Andy's toys live happily in his ...</td>\n",
       "      <td>21.946943</td>\n",
       "      <td>[3]</td>\n",
       "      <td>1995</td>\n",
       "      <td>81.0</td>\n",
       "      <td>[1]</td>\n",
       "      <td>Toy Story</td>\n",
       "      <td>7.7</td>\n",
       "      <td>5415.0</td>\n",
       "      <td>[931, 4290, 5202, 6054, 9713, 9823, 165503, 17...</td>\n",
       "      <td>[31, 12898, 7167, 12899, 12900, 7907, 8873, 11...</td>\n",
       "      <td>[7879, 12891, 7, 12892, 12893, 12894, 12895, 1...</td>\n",
       "    </tr>\n",
       "    <tr>\n",
       "      <th>1</th>\n",
       "      <td>8844</td>\n",
       "      <td>0</td>\n",
       "      <td>NaN</td>\n",
       "      <td>[12, 14, 10751]</td>\n",
       "      <td>When siblings Judy and Peter discover an encha...</td>\n",
       "      <td>17.015539</td>\n",
       "      <td>[559, 2550, 10201]</td>\n",
       "      <td>1995</td>\n",
       "      <td>104.0</td>\n",
       "      <td>[1, 2]</td>\n",
       "      <td>Jumanji</td>\n",
       "      <td>6.9</td>\n",
       "      <td>2413.0</td>\n",
       "      <td>[10090, 10941, 15101, 33467, 158086, 158091]</td>\n",
       "      <td>[2157, 8537, 205, 145151, 5149, 10739, 58563, ...</td>\n",
       "      <td>[511, 876, 1729, 4945, 4951, 4952, 8023, 9967,...</td>\n",
       "    </tr>\n",
       "    <tr>\n",
       "      <th>2</th>\n",
       "      <td>15602</td>\n",
       "      <td>0</td>\n",
       "      <td>119050.0</td>\n",
       "      <td>[10749, 35]</td>\n",
       "      <td>A family wedding reignites the ancient feud be...</td>\n",
       "      <td>11.712900</td>\n",
       "      <td>[6194, 19464]</td>\n",
       "      <td>1995</td>\n",
       "      <td>101.0</td>\n",
       "      <td>[1]</td>\n",
       "      <td>Grumpier Old Men</td>\n",
       "      <td>6.5</td>\n",
       "      <td>92.0</td>\n",
       "      <td>[1495, 12392, 179431, 208510]</td>\n",
       "      <td>[6837, 3151, 13567, 16757, 589, 16523, 7166]</td>\n",
       "      <td>[26502, 16837, 16837, 1551320]</td>\n",
       "    </tr>\n",
       "    <tr>\n",
       "      <th>3</th>\n",
       "      <td>31357</td>\n",
       "      <td>0</td>\n",
       "      <td>NaN</td>\n",
       "      <td>[35, 18, 10749]</td>\n",
       "      <td>Cheated on, mistreated and stepped on, the wom...</td>\n",
       "      <td>3.859495</td>\n",
       "      <td>[306]</td>\n",
       "      <td>1995</td>\n",
       "      <td>127.0</td>\n",
       "      <td>[1]</td>\n",
       "      <td>Waiting to Exhale</td>\n",
       "      <td>6.1</td>\n",
       "      <td>34.0</td>\n",
       "      <td>[818, 10131, 14768, 15160, 33455]</td>\n",
       "      <td>[8851, 9780, 18284, 51359, 66804, 352, 87118, ...</td>\n",
       "      <td>[2178, 5144, 5144, 21968, 70592, 111118, 11111...</td>\n",
       "    </tr>\n",
       "    <tr>\n",
       "      <th>4</th>\n",
       "      <td>11862</td>\n",
       "      <td>0</td>\n",
       "      <td>96871.0</td>\n",
       "      <td>[35]</td>\n",
       "      <td>Just when George Banks has recovered from his ...</td>\n",
       "      <td>8.387519</td>\n",
       "      <td>[5842, 9195]</td>\n",
       "      <td>1995</td>\n",
       "      <td>106.0</td>\n",
       "      <td>[1]</td>\n",
       "      <td>Father of the Bride Part II</td>\n",
       "      <td>5.7</td>\n",
       "      <td>173.0</td>\n",
       "      <td>[1009, 1599, 2246, 4995, 5600, 10707, 13149, 3...</td>\n",
       "      <td>[67773, 3092, 519, 70696, 59222, 18793, 14592,...</td>\n",
       "      <td>[37, 5506, 17698, 17698, 26160, 56106, 68755]</td>\n",
       "    </tr>\n",
       "  </tbody>\n",
       "</table>\n",
       "</div>"
      ],
      "text/plain": [
       "      id  adult  belongs_to_collection           genres  \\\n",
       "0    862      0                10194.0  [16, 35, 10751]   \n",
       "1   8844      0                    NaN  [12, 14, 10751]   \n",
       "2  15602      0               119050.0      [10749, 35]   \n",
       "3  31357      0                    NaN  [35, 18, 10749]   \n",
       "4  11862      0                96871.0             [35]   \n",
       "\n",
       "                                            overview  popularity  \\\n",
       "0  Led by Woody, Andy's toys live happily in his ...   21.946943   \n",
       "1  When siblings Judy and Peter discover an encha...   17.015539   \n",
       "2  A family wedding reignites the ancient feud be...   11.712900   \n",
       "3  Cheated on, mistreated and stepped on, the wom...    3.859495   \n",
       "4  Just when George Banks has recovered from his ...    8.387519   \n",
       "\n",
       "  production_companies  release_date  runtime spoken_languages  \\\n",
       "0                  [3]          1995     81.0              [1]   \n",
       "1   [559, 2550, 10201]          1995    104.0           [1, 2]   \n",
       "2        [6194, 19464]          1995    101.0              [1]   \n",
       "3                [306]          1995    127.0              [1]   \n",
       "4         [5842, 9195]          1995    106.0              [1]   \n",
       "\n",
       "                         title  vote_average  vote_count  \\\n",
       "0                    Toy Story           7.7      5415.0   \n",
       "1                      Jumanji           6.9      2413.0   \n",
       "2             Grumpier Old Men           6.5        92.0   \n",
       "3            Waiting to Exhale           6.1        34.0   \n",
       "4  Father of the Bride Part II           5.7       173.0   \n",
       "\n",
       "                                            keywords  \\\n",
       "0  [931, 4290, 5202, 6054, 9713, 9823, 165503, 17...   \n",
       "1       [10090, 10941, 15101, 33467, 158086, 158091]   \n",
       "2                      [1495, 12392, 179431, 208510]   \n",
       "3                  [818, 10131, 14768, 15160, 33455]   \n",
       "4  [1009, 1599, 2246, 4995, 5600, 10707, 13149, 3...   \n",
       "\n",
       "                                                cast  \\\n",
       "0  [31, 12898, 7167, 12899, 12900, 7907, 8873, 11...   \n",
       "1  [2157, 8537, 205, 145151, 5149, 10739, 58563, ...   \n",
       "2       [6837, 3151, 13567, 16757, 589, 16523, 7166]   \n",
       "3  [8851, 9780, 18284, 51359, 66804, 352, 87118, ...   \n",
       "4  [67773, 3092, 519, 70696, 59222, 18793, 14592,...   \n",
       "\n",
       "                                                crew  \n",
       "0  [7879, 12891, 7, 12892, 12893, 12894, 12895, 1...  \n",
       "1  [511, 876, 1729, 4945, 4951, 4952, 8023, 9967,...  \n",
       "2                     [26502, 16837, 16837, 1551320]  \n",
       "3  [2178, 5144, 5144, 21968, 70592, 111118, 11111...  \n",
       "4      [37, 5506, 17698, 17698, 26160, 56106, 68755]  "
      ]
     },
     "execution_count": 4,
     "metadata": {},
     "output_type": "execute_result"
    }
   ],
   "source": [
    "df.head()"
   ]
  },
  {
   "cell_type": "code",
   "execution_count": 5,
   "id": "890de0aa-1280-4aba-ba0c-805353a1c897",
   "metadata": {},
   "outputs": [
    {
     "data": {
      "text/plain": [
       "id                                                                     862\n",
       "adult                                                                    0\n",
       "belongs_to_collection                                              10194.0\n",
       "genres                                                     [16, 35, 10751]\n",
       "overview                 Led by Woody, Andy's toys live happily in his ...\n",
       "popularity                                                       21.946943\n",
       "production_companies                                                   [3]\n",
       "release_date                                                          1995\n",
       "runtime                                                               81.0\n",
       "spoken_languages                                                       [1]\n",
       "title                                                            Toy Story\n",
       "vote_average                                                           7.7\n",
       "vote_count                                                          5415.0\n",
       "keywords                 [931, 4290, 5202, 6054, 9713, 9823, 165503, 17...\n",
       "cast                     [31, 12898, 7167, 12899, 12900, 7907, 8873, 11...\n",
       "crew                     [7879, 12891, 7, 12892, 12893, 12894, 12895, 1...\n",
       "Name: 0, dtype: object"
      ]
     },
     "execution_count": 5,
     "metadata": {},
     "output_type": "execute_result"
    }
   ],
   "source": [
    "df.iloc[0]"
   ]
  },
  {
   "cell_type": "code",
   "execution_count": 7,
   "id": "59dc7389-583e-49ff-bb24-70fd89f89d59",
   "metadata": {},
   "outputs": [
    {
     "data": {
      "text/plain": [
       "Index(['id', 'adult', 'belongs_to_collection', 'genres', 'overview',\n",
       "       'popularity', 'production_companies', 'release_date', 'runtime',\n",
       "       'spoken_languages', 'title', 'vote_average', 'vote_count', 'keywords',\n",
       "       'cast', 'crew'],\n",
       "      dtype='object')"
      ]
     },
     "execution_count": 7,
     "metadata": {},
     "output_type": "execute_result"
    }
   ],
   "source": [
    "df.columns"
   ]
  },
  {
   "cell_type": "code",
   "execution_count": 8,
   "id": "b6fbf904-2277-4b7a-993d-6b48e4c91dac",
   "metadata": {},
   "outputs": [],
   "source": [
    "def score_similarity(a_,b_,attr):\n",
    "    if attr == 'adult':\n",
    "        return int(a_==b_) \n",
    "    elif attr == 'belongs_to_collection':\n",
    "        if a_ == b_:\n",
    "            return 1\n",
    "        else:\n",
    "            return 0\n",
    "    elif attr in ['genres','production_companies','spoken_languages','keywords','crew','cast']:\n",
    "        a_ = set(eval(a_))\n",
    "        b_ = set(eval(b_))\n",
    "        if len(a_|b_) == 0:\n",
    "            return 0\n",
    "        score = len(a_&b_)/len(a_|b_)\n",
    "        return score\n",
    "    elif attr in ['popularity','runtime','release_date','vote_average']:\n",
    "        score = 1/abs(a_-b_)\n",
    "        return score\n",
    "    else:\n",
    "        return 0"
   ]
  },
  {
   "cell_type": "code",
   "execution_count": 9,
   "id": "77cfb74f-71ad-47b6-ac9c-1c672a802ff3",
   "metadata": {},
   "outputs": [],
   "source": [
    "def get_similarity(a,b):\n",
    "    a_ = df.iloc[df.index[df.id == a][0]]\n",
    "    b_ = df.iloc[df.index[df.id == b][0]]\n",
    "\n",
    "    similarity = []\n",
    "    \n",
    "    for i in list(a_.index)[1:]:\n",
    "        similarity.append(score_similarity(a_[i],b_[i],i))\n",
    "\n",
    "    return similarity\n"
   ]
  },
  {
   "cell_type": "code",
   "execution_count": 10,
   "id": "480f7592-32a1-48a9-b88c-b71241103ecb",
   "metadata": {},
   "outputs": [
    {
     "data": {
      "text/plain": [
       "[1,\n",
       " 0,\n",
       " 0.0,\n",
       " 0,\n",
       " 0.062063491945275884,\n",
       " 0.0,\n",
       " 0.125,\n",
       " 0.07142857142857142,\n",
       " 0.5,\n",
       " 0,\n",
       " 0.32258064516129026,\n",
       " 0,\n",
       " 0.0,\n",
       " 0.0,\n",
       " 0.0]"
      ]
     },
     "execution_count": 10,
     "metadata": {},
     "output_type": "execute_result"
    }
   ],
   "source": [
    "# don't consider vote count, title and overview\n",
    "get_similarity(67758,8844)"
   ]
  },
  {
   "cell_type": "code",
   "execution_count": null,
   "id": "fc8bdec5-0f12-4c88-9140-9d32545d5e2a",
   "metadata": {},
   "outputs": [],
   "source": []
  },
  {
   "cell_type": "code",
   "execution_count": null,
   "id": "70b3932e-01c7-4d42-94be-cc675941c083",
   "metadata": {},
   "outputs": [],
   "source": []
  }
 ],
 "metadata": {
  "kernelspec": {
   "display_name": "Python 3 (ipykernel)",
   "language": "python",
   "name": "python3"
  },
  "language_info": {
   "codemirror_mode": {
    "name": "ipython",
    "version": 3
   },
   "file_extension": ".py",
   "mimetype": "text/x-python",
   "name": "python",
   "nbconvert_exporter": "python",
   "pygments_lexer": "ipython3",
   "version": "3.8.18"
  }
 },
 "nbformat": 4,
 "nbformat_minor": 5
}
